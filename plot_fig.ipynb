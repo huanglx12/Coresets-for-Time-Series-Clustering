{
 "cells": [
  {
   "cell_type": "code",
   "execution_count": 1,
   "metadata": {},
   "outputs": [],
   "source": [
    "import pandas as pd\n",
    "import numpy as np\n",
    "import datetime as dt\n",
    "import math\n",
    "import matplotlib.pyplot as plt\n",
    "from scipy.special import logit"
   ]
  },
  {
   "cell_type": "code",
   "execution_count": 2,
   "metadata": {},
   "outputs": [
    {
     "data": {
      "text/html": [
       "<div>\n",
       "<style scoped>\n",
       "    .dataframe tbody tr th:only-of-type {\n",
       "        vertical-align: middle;\n",
       "    }\n",
       "\n",
       "    .dataframe tbody tr th {\n",
       "        vertical-align: top;\n",
       "    }\n",
       "\n",
       "    .dataframe thead th {\n",
       "        text-align: right;\n",
       "    }\n",
       "</style>\n",
       "<table border=\"1\" class=\"dataframe\">\n",
       "  <thead>\n",
       "    <tr style=\"text-align: right;\">\n",
       "      <th></th>\n",
       "      <th>ratio</th>\n",
       "      <th>CRGMM</th>\n",
       "      <th>err1</th>\n",
       "      <th>Uni</th>\n",
       "      <th>err2</th>\n",
       "      <th>LFKF</th>\n",
       "      <th>err3</th>\n",
       "    </tr>\n",
       "  </thead>\n",
       "  <tbody>\n",
       "    <tr>\n",
       "      <th>0</th>\n",
       "      <td>0.1</td>\n",
       "      <td>2</td>\n",
       "      <td>1.78</td>\n",
       "      <td>26</td>\n",
       "      <td>11.50</td>\n",
       "      <td>58</td>\n",
       "      <td>13.82</td>\n",
       "    </tr>\n",
       "    <tr>\n",
       "      <th>1</th>\n",
       "      <td>0.2</td>\n",
       "      <td>24</td>\n",
       "      <td>2.72</td>\n",
       "      <td>166</td>\n",
       "      <td>14.22</td>\n",
       "      <td>118</td>\n",
       "      <td>23.84</td>\n",
       "    </tr>\n",
       "    <tr>\n",
       "      <th>2</th>\n",
       "      <td>0.3</td>\n",
       "      <td>104</td>\n",
       "      <td>4.20</td>\n",
       "      <td>292</td>\n",
       "      <td>75.92</td>\n",
       "      <td>364</td>\n",
       "      <td>27.56</td>\n",
       "    </tr>\n",
       "    <tr>\n",
       "      <th>3</th>\n",
       "      <td>0.4</td>\n",
       "      <td>96</td>\n",
       "      <td>6.72</td>\n",
       "      <td>756</td>\n",
       "      <td>236.26</td>\n",
       "      <td>604</td>\n",
       "      <td>96.08</td>\n",
       "    </tr>\n",
       "    <tr>\n",
       "      <th>4</th>\n",
       "      <td>0.5</td>\n",
       "      <td>196</td>\n",
       "      <td>10.70</td>\n",
       "      <td>1098</td>\n",
       "      <td>155.74</td>\n",
       "      <td>944</td>\n",
       "      <td>312.66</td>\n",
       "    </tr>\n",
       "  </tbody>\n",
       "</table>\n",
       "</div>"
      ],
      "text/plain": [
       "   ratio  CRGMM   err1   Uni    err2  LFKF    err3\n",
       "0    0.1      2   1.78    26   11.50    58   13.82\n",
       "1    0.2     24   2.72   166   14.22   118   23.84\n",
       "2    0.3    104   4.20   292   75.92   364   27.56\n",
       "3    0.4     96   6.72   756  236.26   604   96.08\n",
       "4    0.5    196  10.70  1098  155.74   944  312.66"
      ]
     },
     "execution_count": 2,
     "metadata": {},
     "output_type": "execute_result"
    }
   ],
   "source": [
    "df = pd.read_csv('N200T1250k3-likelihoodratio.csv')\n",
    "df"
   ]
  },
  {
   "cell_type": "code",
   "execution_count": 3,
   "metadata": {},
   "outputs": [
    {
     "data": {
      "text/plain": [
       "Text(0.5, 1.0, '$N=T_i=500$')"
      ]
     },
     "execution_count": 3,
     "metadata": {},
     "output_type": "execute_result"
    },
    {
     "data": {
      "image/png": "[encoded data removed]",
      "text/plain": [
       "<Figure size 648x432 with 1 Axes>"
      ]
     },
     "metadata": {
      "needs_background": "light"
     },
     "output_type": "display_data"
    }
   ],
   "source": [
    "fig, ax = plt.subplots(figsize=(9,6))\n",
    "ax.errorbar(df['ratio'], df['CRGMM'], df['err1'], fmt='^', markersize='15', label='CRGMM', elinewidth=4)\n",
    "ax.errorbar(df['ratio'], df['Uni'], df['err2'], fmt='o', markersize='15', label='Uni', elinewidth=4)\n",
    "ax.errorbar(df['ratio'], df['LFKF'], df['err3'], fmt='*', markersize='15', label='LFKF', elinewidth=4)\n",
    "plt.xticks([0.1,0.2,0.3,0.4,0.5], size=20)\n",
    "plt.yticks(size=20)\n",
    "ax.set_xlabel(r'$\\varepsilon$', fontsize=20)\n",
    "ax.set_ylabel(r'$\\gamma_S$', fontsize=20)\n",
    "ax.legend(loc='upper left', fontsize=20)\n",
    "plt.title(\"$N=T_i=500$\", fontsize=20)"
   ]
  },
  {
   "cell_type": "code",
   "execution_count": null,
   "metadata": {},
   "outputs": [],
   "source": []
  },
  {
   "cell_type": "code",
   "execution_count": null,
   "metadata": {},
   "outputs": [],
   "source": []
  }
 ],
 "metadata": {
  "kernelspec": {
   "display_name": "Python 3",
   "language": "python",
   "name": "python3"
  },
  "language_info": {
   "codemirror_mode": {
    "name": "ipython",
    "version": 3
   },
   "file_extension": ".py",
   "mimetype": "text/x-python",
   "name": "python",
   "nbconvert_exporter": "python",
   "pygments_lexer": "ipython3",
   "version": "3.7.7"
  }
 },
 "nbformat": 4,
 "nbformat_minor": 2
}
